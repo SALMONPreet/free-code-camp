{
  "cells": [
    {
      "cell_type": "markdown",
      "metadata": {
        "id": "view-in-github",
        "colab_type": "text"
      },
      "source": [
        "<a href=\"https://colab.research.google.com/github/SALMONPreet/stuff1/blob/main/fcc_predict_health_costs_with_regression.ipynb\" target=\"_parent\"><img src=\"https://colab.research.google.com/assets/colab-badge.svg\" alt=\"Open In Colab\"/></a>"
      ]
    },
    {
      "cell_type": "code",
      "execution_count": null,
      "metadata": {
        "id": "1rRo8oNqZ-Rj"
      },
      "outputs": [],
      "source": [
        "# Import libraries. You may or may not use all of these.\n",
        "!pip install -q git+https://github.com/tensorflow/docs\n",
        "import matplotlib.pyplot as plt\n",
        "import numpy as np\n",
        "import pandas as pd\n",
        "\n",
        "try:\n",
        "  # %tensorflow_version only exists in Colab.\n",
        "  %tensorflow_version 2.x\n",
        "except Exception:\n",
        "  pass\n",
        "import tensorflow as tf\n",
        "\n",
        "from tensorflow import keras\n",
        "from tensorflow.keras import layers\n",
        "\n",
        "import tensorflow_docs as tfdocs\n",
        "import tensorflow_docs.plots\n",
        "import tensorflow_docs.modeling"
      ]
    },
    {
      "cell_type": "code",
      "execution_count": null,
      "metadata": {
        "id": "CiX2FI4gZtTt"
      },
      "outputs": [],
      "source": [
        "# Import data\n",
        "!wget https://cdn.freecodecamp.org/project-data/health-costs/insurance.csv\n",
        "dataset = pd.read_csv('insurance.csv')\n",
        "dataset.tail()"
      ]
    },
    {
      "cell_type": "code",
      "execution_count": null,
      "metadata": {
        "id": "LcopvQh3X-kX"
      },
      "outputs": [],
      "source": [
        "from sklearn.model_selection import train_test_split\n",
        "from sklearn.preprocessing import StandardScaler, OneHotEncoder\n",
        "from sklearn.compose import ColumnTransformer\n",
        "import pandas as pd\n",
        "import numpy as np\n",
        "\n",
        "# Reload data to ensure 'expenses' column exists\n",
        "raw_dataset = pd.read_csv('insurance.csv')\n",
        "\n",
        "# Separate label\n",
        "labels = raw_dataset.pop('expenses')\n",
        "\n",
        "# Train-test split\n",
        "train_dataset, test_dataset, train_labels, test_labels = train_test_split(\n",
        "    raw_dataset, labels, test_size=0.2, random_state=42\n",
        ")\n",
        "\n",
        "# Define feature types\n",
        "categorical = ['sex', 'smoker', 'region']\n",
        "numeric = ['age', 'bmi', 'children']\n",
        "\n",
        "# Preprocessor: scale numerics, one-hot encode categoricals\n",
        "preprocessor = ColumnTransformer([\n",
        "    ('num', StandardScaler(), numeric),\n",
        "    ('cat', OneHotEncoder(sparse_output=False), categorical)\n",
        "])\n",
        "\n",
        "# Fit-transform data\n",
        "X_train = preprocessor.fit_transform(train_dataset)\n",
        "X_test = preprocessor.transform(test_dataset)\n",
        "\n",
        "# Get final column names\n",
        "encoded_cat_columns = preprocessor.named_transformers_['cat'].get_feature_names_out(categorical)\n",
        "all_columns = np.concatenate([numeric, encoded_cat_columns])\n",
        "\n",
        "# Convert arrays back to DataFrames so the test cell works\n",
        "train_dataset = pd.DataFrame(X_train, columns=all_columns)\n",
        "test_dataset = pd.DataFrame(X_test, columns=all_columns)\n",
        "\n",
        "# Build model\n",
        "model = keras.Sequential([\n",
        "    layers.Input(shape=(train_dataset.shape[1],)),\n",
        "    layers.Dense(128, activation='relu'),\n",
        "    layers.Dense(64, activation='relu'),\n",
        "    layers.Dense(1)\n",
        "])\n",
        "\n",
        "# Compile model\n",
        "model.compile(optimizer='adam', loss='mae', metrics=['mae', 'mse'])\n",
        "\n",
        "# Train model\n",
        "history = model.fit(train_dataset, train_labels, epochs=100, validation_split=0.2, verbose=0)\n"
      ]
    },
    {
      "cell_type": "code",
      "execution_count": null,
      "metadata": {
        "id": "Xe7RXH3N3CWU"
      },
      "outputs": [],
      "source": [
        "# RUN THIS CELL TO TEST YOUR MODEL. DO NOT MODIFY CONTENTS.\n",
        "# Test model by checking how well the model generalizes using the test set.\n",
        "loss, mae, mse = model.evaluate(test_dataset, test_labels, verbose=2)\n",
        "\n",
        "print(\"Testing set Mean Abs Error: {:5.2f} expenses\".format(mae))\n",
        "\n",
        "if mae < 3500:\n",
        "  print(\"You passed the challenge. Great job!\")\n",
        "else:\n",
        "  print(\"The Mean Abs Error must be less than 3500. Keep trying.\")\n",
        "\n",
        "# Plot predictions.\n",
        "test_predictions = model.predict(test_dataset).flatten()\n",
        "\n",
        "a = plt.axes(aspect='equal')\n",
        "plt.scatter(test_labels, test_predictions)\n",
        "plt.xlabel('True values (expenses)')\n",
        "plt.ylabel('Predictions (expenses)')\n",
        "lims = [0, 50000]\n",
        "plt.xlim(lims)\n",
        "plt.ylim(lims)\n",
        "_ = plt.plot(lims,lims)\n"
      ]
    }
  ],
  "metadata": {
    "colab": {
      "name": "fcc_predict_health_costs_with_regression.ipynb",
      "private_outputs": true,
      "provenance": [],
      "include_colab_link": true
    },
    "kernelspec": {
      "display_name": "Python 3",
      "name": "python3"
    }
  },
  "nbformat": 4,
  "nbformat_minor": 0
}