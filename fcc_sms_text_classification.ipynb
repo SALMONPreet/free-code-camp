{
  "cells": [
    {
      "cell_type": "code",
      "execution_count": null,
      "metadata": {
        "id": "8RZOuS9LWQvv",
        "collapsed": true
      },
      "outputs": [],
      "source": [
        "# Uninstall tf-nightly if installed\n",
        "!pip uninstall -y tf-nightly keras-nightly tb-nightly tensorflow-estimator ml-dtypes\n",
        "\n",
        "# Install stable TensorFlow version and datasets\n",
        "!pip install -U tensorflow==2.15.0\n",
        "!pip install -U tensorflow-datasets\n",
        "\n",
        "# Import libraries\n",
        "import tensorflow as tf\n",
        "import pandas as pd\n",
        "import numpy as np\n",
        "import matplotlib.pyplot as plt\n",
        "import tensorflow_datasets as tfds\n",
        "\n",
        "print(\"TensorFlow version:\", tf.__version__)\n"
      ]
    },
    {
      "cell_type": "code",
      "execution_count": null,
      "metadata": {
        "id": "lMHwYXHXCar3"
      },
      "outputs": [],
      "source": [
        "# get data files\n",
        "!wget https://cdn.freecodecamp.org/project-data/sms/train-data.tsv\n",
        "!wget https://cdn.freecodecamp.org/project-data/sms/valid-data.tsv\n",
        "\n",
        "train_file_path = \"train-data.tsv\"\n",
        "test_file_path = \"valid-data.tsv\""
      ]
    },
    {
      "cell_type": "code",
      "execution_count": null,
      "metadata": {
        "id": "zOMKywn4zReN"
      },
      "outputs": [],
      "source": [
        "from tensorflow.keras import Sequential\n",
        "from tensorflow.keras.layers import TextVectorization, Embedding, GlobalAveragePooling1D, Dense, Dropout\n",
        "\n",
        "# Load data from .tsv files\n",
        "train_data = pd.read_csv(train_file_path, sep='\\t', header=None, names=['label', 'text'])\n",
        "test_data = pd.read_csv(test_file_path, sep='\\t', header=None, names=['label', 'text'])\n",
        "\n",
        "# Normalize labels\n",
        "train_data['label'] = train_data['label'].str.strip().str.lower()\n",
        "test_data['label'] = test_data['label'].str.strip().str.lower()\n",
        "\n",
        "# Map labels to 0 and 1\n",
        "label_map = {'ham': 0, 'spam': 1}\n",
        "train_data['label'] = train_data['label'].map(label_map)\n",
        "test_data['label'] = test_data['label'].map(label_map)\n",
        "\n",
        "# Text Vectorization\n",
        "max_features = 5000\n",
        "sequence_length = 120\n",
        "\n",
        "vectorizer = TextVectorization(max_tokens=max_features, output_mode='int', output_sequence_length=sequence_length)\n",
        "vectorizer.adapt(train_data['text'].values)\n",
        "\n",
        "# Build the model\n",
        "model = Sequential([\n",
        "    vectorizer,\n",
        "    Embedding(input_dim=max_features + 1, output_dim=16),\n",
        "    GlobalAveragePooling1D(),\n",
        "    Dropout(0.5),\n",
        "    Dense(16, activation='relu'),\n",
        "    Dense(1, activation='sigmoid')\n",
        "])\n",
        "\n",
        "# Compile model\n",
        "model.compile(loss='binary_crossentropy', optimizer='adam', metrics=['accuracy'])\n",
        "\n",
        "# Prepare data for training\n",
        "train_ds = tf.data.Dataset.from_tensor_slices((train_data['text'].values, train_data['label'].values)).batch(32)\n",
        "test_ds = tf.data.Dataset.from_tensor_slices((test_data['text'].values, test_data['label'].values)).batch(32)\n",
        "\n",
        "# Train the model\n",
        "model.fit(train_ds, validation_data=test_ds, epochs=30)"
      ]
    },
    {
      "cell_type": "code",
      "execution_count": null,
      "metadata": {
        "id": "J9tD9yACG6M9"
      },
      "outputs": [],
      "source": [
        "# function to predict messages based on model\n",
        "# (should return list containing prediction and label, ex. [0.008318834938108921, 'ham'])\n",
        "def predict_message(pred_text):\n",
        "    prob = model.predict([pred_text])[0][0]\n",
        "    label = 'spam' if prob > 0.5 else 'ham'\n",
        "    print(f\"Message: \\\"{pred_text}\\\"\\n → Prediction: {prob:.4f} → {label}\\n\")\n",
        "    return [prob, label]\n",
        "\n",
        "pred_text = \"how are you doing today?\"\n",
        "\n",
        "prediction = predict_message(pred_text)\n",
        "print(prediction)"
      ]
    },
    {
      "cell_type": "code",
      "execution_count": null,
      "metadata": {
        "id": "Dxotov85SjsC"
      },
      "outputs": [],
      "source": [
        "# Run this cell to test your function and model. Do not modify contents.\n",
        "def test_predictions():\n",
        "  test_messages = [\"how are you doing today\",\n",
        "                   \"sale today! to stop texts call 98912460324\",\n",
        "                   \"i dont want to go. can we try it a different day? available sat\",\n",
        "                   \"our new mobile video service is live. just install on your phone to start watching.\",\n",
        "                   \"you have won £1000 cash! call to claim your prize.\",\n",
        "                   \"i'll bring it tomorrow. don't forget the milk.\",\n",
        "                   \"wow, is your arm alright. that happened to me one time too\"\n",
        "                  ]\n",
        "\n",
        "  test_answers = [\"ham\", \"spam\", \"ham\", \"spam\", \"spam\", \"ham\", \"ham\"]\n",
        "  passed = True\n",
        "\n",
        "  for msg, ans in zip(test_messages, test_answers):\n",
        "    prediction = predict_message(msg)\n",
        "    if prediction[1] != ans:\n",
        "      passed = False\n",
        "\n",
        "  if passed:\n",
        "    print(\"You passed the challenge. Great job!\")\n",
        "  else:\n",
        "    print(\"You haven't passed yet. Keep trying.\")\n",
        "\n",
        "test_predictions()\n"
      ]
    }
  ],
  "metadata": {
    "colab": {
      "name": "fcc_sms_text_classification.ipynb",
      "private_outputs": true,
      "provenance": [],
      "toc_visible": true
    },
    "kernelspec": {
      "display_name": "Python 3",
      "name": "python3"
    },
    "language_info": {}
  },
  "nbformat": 4,
  "nbformat_minor": 0
}